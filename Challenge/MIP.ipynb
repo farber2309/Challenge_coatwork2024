{
 "cells": [
  {
   "cell_type": "code",
   "execution_count": 1,
   "metadata": {},
   "outputs": [],
   "source": [
    "#!pip install numpy pandas xpress PySCIPopt matplotlib networkx "
   ]
  },
  {
   "cell_type": "code",
   "execution_count": 3,
   "metadata": {},
   "outputs": [],
   "source": [
    "import numpy as np \n",
    "import pandas as pd \n",
    "from pyscipopt import Model, quicksum\n",
    "from read_data import process_all_instances"
   ]
  },
  {
   "cell_type": "code",
   "execution_count": 15,
   "metadata": {},
   "outputs": [
    {
     "name": "stdout",
     "output_type": "stream",
     "text": [
      "Processing instance: 1d7c5373-e121-4d33-8dac-32f8801f7b6a\n",
      "Processing instance: 3540d0d3-4667-444b-8700-1612f951c049\n",
      "Processing instance: 4f90ea3a-aee4-4a3e-a862-c073e5390801\n",
      "Processing instance: 6ed67a32-bfb7-4207-8873-6e0740467db5\n",
      "Processing instance: 99a03a35-ab56-4bd8-8b1d-42a7f51969c8\n",
      "Processing instance: 9ca9e06e-e1ce-4a05-b847-c1b0ecdd5e29\n",
      "Processing instance: 16a60115-053d-4102-b189-1d2e1b2164a5\n",
      "Processing instance: 49ecb4a1-ebdf-4826-836b-e02698de07fa\n",
      "Processing instance: 4845b3e3-1ff2-44c2-9c0c-50874d4fab5b\n",
      "Processing instance: a1e08921-ab7f-418d-b140-7034983c387a\n",
      "Processing instance: 8c0c8ce3-bc0c-4422-9370-d8dcc45bdf7f\n",
      "Processing instance: 9c1ad818-ec6f-4fd0-a1cb-485b6da0c22c\n",
      "Processing instance: 5d8f0aa5-8639-476b-a314-f2bab5232403\n",
      "Processing instance: b5d9b099-6e8a-4c2b-a11c-8db444257ab1\n",
      "Processing instance: 1adef166-1111-45fd-b722-0f817c7fa055\n",
      "Processing instance: 13346e71-0380-4feb-945a-2688f3dbd41b\n",
      "Processing instance: 59d81edb-ec52-4bd4-9c4b-d771a234e88b\n",
      "Processing instance: 592e41e1-b4fe-4e44-bc82-9711ebf5d6ff\n",
      "Processing instance: 4ca8afcd-9a02-46de-8ee3-4aa99d0f659e\n",
      "Processing instance: bc930d66-ab5f-4816-becb-b0ab43aa794a\n",
      "Processing instance: 51ab8871-fd77-4a00-8e29-ed6e0e2ea1d6\n",
      "Processing instance: 36b9c325-11dd-4df8-8c78-3d884b13c53a\n",
      "Processing instance: 67097af0-aaaa-4d14-88ad-bd81bd2a7929\n",
      "Processing instance: ae2e3aac-1651-469c-9366-879a1142ed36\n",
      "Processing instance: 0557d5aa-626e-4303-8191-36575efcfba3\n",
      "Processing instance: a00e2b00-d053-4952-87c1-bfc29253aaed\n",
      "Processing instance: 5ebbe046-9f54-4ea4-b111-a0ac0b73ef44\n",
      "Processing instance: 969f9aa8-cf09-40fd-b7a6-dd307a94e11b\n",
      "Processing instance: 43ace849-e178-4a62-8cca-696bfe2289d0\n",
      "Processing instance: 77994322-107d-4dcf-a13b-5712694b8d1f\n",
      "Processing instance: 848e6aa7-d387-4457-9ca6-3cc6e9f12fac\n",
      "Processing instance: b68b26e7-3487-49ba-a3a0-a6c930eeaad5\n",
      "Processing instance: 9617c0a7-ea86-4eb6-b96b-a1ac47d46a7a\n",
      "Processing instance: 9aa1a908-4c1f-4ec1-9a21-8496e51cbe96\n",
      "Processing instance: 538cd130-4b49-4cb5-8bd5-72e54bb75dfa\n",
      "Processing instance: 1c4f92e6-d84c-44ec-92d9-44485f5deec9\n",
      "Processing instance: 9e541a1b-8a0a-4eb9-8254-a30887dcdcac\n",
      "Processing instance: b6bc5f29-f105-48aa-92a3-eafc3e625253\n",
      "Processing instance: 0987f9c7-1f0d-4d6c-b294-04ecf470a743\n",
      "Processing instance: 259c1395-ce28-41e7-a24f-c929da745d89\n",
      "Processing instance: 18013102-02a4-4f96-aae3-2f5b28447680\n",
      "Processing instance: 31414b3d-4e9b-4bc1-bc63-a18875809c05\n",
      "Processing instance: ac238ffb-49d8-43e7-af30-2c3ce6d4ed15\n",
      "Processing instance: 41c7f9d2-c7b6-43f9-beab-62775f5ba165\n",
      "Processing instance: 79d64424-1935-4829-b452-d6c926b1ef70\n",
      "Processing instance: 1af15032-e729-4759-9329-0cadc6309f5a\n",
      "Processing instance: 375c79d1-ba63-42d0-9074-07155e31a61a\n",
      "Processing instance: 389f96b3-a8b9-4715-9260-6842e4509073\n",
      "Processing instance: b7e50c9a-c39a-4842-bb13-39f51772f4be\n",
      "Processing instance: 32f63afe-9e48-403a-9d13-2a07e85aa629\n",
      "Processing instance: 515b8df1-9c53-4343-b962-c91fddccb3b4\n",
      "Processing instance: 30f4d865-74fc-440b-80c9-7434520572e7\n",
      "Processing instance: 4c69aa7e-e1f9-4563-a702-646d223279b3\n",
      "Processing instance: 3993d1e5-fa8f-445e-903e-d7694feee08d\n",
      "Processing instance: 90a098a2-e9a9-4bc1-a999-a303e987615f\n",
      "Processing instance: 7ddfa12c-34bd-4c8f-b0fa-14c9ee08dcbe\n",
      "Processing instance: 4e93e267-7ca5-42f6-8f39-767baede15cd\n",
      "Processing instance: 138127d4-77ac-4fb0-9f32-35a35a18dfac\n",
      "Processing instance: 028da981-b8d6-4e72-ba8d-7dd471e751e9\n",
      "Processing instance: b1cc251f-babf-4197-815d-238f5254db0d\n",
      "Processing instance: b0b247f3-c6da-4b31-afdd-701942db2793\n",
      "Processing instance: 5cf87575-6a1d-4809-abae-4b7b57aeac6b\n",
      "Processing instance: b9240566-c077-4f2a-aa59-822d44a7f9cf\n",
      "Processing instance: 595fcfee-9c6a-4442-9a01-d1e8dbc3313f\n",
      "Processing instance: 21b2843a-ad40-4f2e-aa6a-8eaa07804898\n",
      "Processing instance: 57b67955-0efb-48a9-9eda-92615e39437c\n",
      "Processing instance: 6ea893d3-15d2-4b5a-8722-fc19bc2e9dbe\n",
      "Processing instance: ba583591-889e-47a7-9f58-d0f9efe06db2\n",
      "Processing instance: 82a3bb64-a1ef-4752-bd89-b81dbd727a1c\n",
      "Processing instance: 178d98be-bfa3-46e8-aef2-4dbbc4aa5a9b\n",
      "Processing instance: 4193f738-78fe-4181-bc4d-e6f75b2d3faa\n",
      "Processing instance: ba22c2f8-e8fd-42e3-ae98-6c993c1b8b56\n",
      "Processing instance: 32c457af-b066-4364-80ad-bf4718887802\n",
      "Processing instance: 54f12b5e-3dad-4589-b6fe-25a2cc0c1aee\n",
      "Processing instance: 4cbb9f67-a24c-4c7b-b8c7-6f1e26309031\n",
      "Processing instance: aa7a4006-ce16-48b2-af18-6c3bf6d71d4e\n",
      "Processing instance: 7af9b4b3-e782-4322-94ed-929690a08579\n",
      "Processing instance: 9e741ee5-8b5d-4606-840a-7680d355d1a9\n",
      "Processing instance: 438892b6-bcf2-43a5-ab98-644a7dbe8bec\n",
      "Processing instance: 873c5cf0-3560-4360-9f48-c9514dc60cfc\n",
      "Processing instance: 08f5b312-72de-4ba2-81a3-56b222a10111\n",
      "Processing instance: a8d0f4c8-583a-480f-a29c-453df5507ef0\n",
      "Processing instance: a0c8d39b-aedc-44ec-be0a-571ac5995499\n",
      "Processing instance: bb19d00f-5f99-4c33-9719-33136b40dc39\n",
      "Processing instance: a9359e03-6e3e-4c1f-af67-b3ff94df6a05\n",
      "Processing instance: 2a230eaf-44a1-4705-9cd4-19ba7d4f4668\n",
      "Processing instance: 790564e3-d71a-4866-b863-a27b5cb4301e\n",
      "Processing instance: ad304f5b-02b7-4391-84c1-70aae1deabd6\n",
      "Processing instance: 9bd25596-1d39-4138-913d-39fe357ae936\n",
      "Processing instance: 5a91d81f-8d51-4126-91ce-19f7a1fee298\n",
      "Processing instance: 4e028861-9fa9-4973-bfe7-67980247e0ae\n",
      "Processing instance: 6ccabe4f-870c-4d32-88ea-b4f8cb199ea9\n",
      "Processing instance: 0b220d8f-ba16-4848-86ef-b446ef436fce\n",
      "Processing instance: a4da2890-b188-4336-9ae7-ccbda1b3a920\n",
      "Processing instance: 5d0d49cf-87f7-4918-b336-4b5d794a6b23\n",
      "Processing instance: 8d13a675-3fbe-457d-9fad-17df0ce95b51\n",
      "Processing instance: 2956bb8a-9c83-4bd1-a604-d8b8bb317add\n",
      "Processing instance: 5d64deb4-b200-445b-8510-aea48c4927cb\n",
      "Processing instance: b809d9ce-512a-4a2a-a3a6-39fc97172ec3\n",
      "Processing instance: 0ba3c52f-4d24-4033-be91-5dac2ad16a4f\n",
      "Processing instance: 9937f0d4-6329-41db-b131-dbb67c9b942b\n",
      "Processing instance: 74511e04-bc19-42ed-bd5c-d2136b12d987\n",
      "Processing instance: 013dcda2-fed0-4883-8b22-e506312614c4\n",
      "Processing instance: 75e69fef-bee8-49cd-a20a-972a30a35407\n",
      "Processing instance: 73e7e7ab-e2bf-4f30-8c40-8da9a9335a99\n",
      "Processing instance: 5c11dabd-26af-4c2f-b2aa-dc0984516fe3\n",
      "Processing instance: b15bb895-625d-4ca6-82d7-4be138f86e55\n",
      "Processing instance: 54f0ea53-1b43-485a-a05e-ad9228a010f4\n",
      "Processing instance: 1d2a4bf2-9841-4066-92e2-0c35d85046eb\n",
      "Processing instance: 37c45bdd-fda0-4324-a538-55fa04000f04\n",
      "Processing instance: a0cbb19a-b510-4f85-bb87-06e93676ec57\n",
      "Processing instance: a5c642f4-807c-4235-ad9c-96cf82106722\n",
      "Processing instance: 4375f133-12f2-4283-8e53-f5fc1508641a\n",
      "Processing instance: 870e746b-ca58-441e-b905-c0c1d0a143a9\n",
      "Processing instance: bddf1d74-40f6-4daa-9e27-7bb5401d8570\n",
      "Processing instance: a31cbd23-ec54-4af4-b61f-3a41f69c5d2f\n",
      "Processing instance: 624e84d4-768d-489c-b46c-a087aadf0f27\n",
      "Processing instance: 916750e6-18d4-401c-aeb0-2b8503c6578b\n",
      "Processing instance: 7805907d-b4d6-438f-a409-92eb572832ed\n",
      "Processing instance: 7138e50d-9f38-4f21-9007-736c67550d43\n",
      "Processing instance: 754ad287-83f0-4c09-88ae-0d14bc6672cd\n",
      "Processing instance: 465dc844-c382-4837-a043-0c6f64d85219\n",
      "Processing instance: aed1a9d3-9538-4bc6-8a66-c102bda49f4e\n",
      "Processing instance: 7a5127ab-1d7b-4063-8f80-fbdb5ccec733\n",
      "Processing instance: 691afa71-87aa-4e62-8a3d-16148c957a82\n",
      "Processing instance: b3671e42-6d8d-47d7-a57e-a6b52061010b\n",
      "Processing instance: 56ad719a-b57b-4f33-97f3-2c29ec8918f6\n",
      "Processing instance: 81e8890f-bcd4-45d7-8690-dd3e3cc6ad28\n",
      "Processing instance: 571c05f2-426d-4eeb-ac70-38fe6aeb30e5\n",
      "Processing instance: 5b070cc8-cea3-444d-853c-e8a394d70994\n",
      "Processing instance: 18380b67-8573-486d-94ad-6a23db7bc866\n",
      "Processing instance: 6609362c-be42-45f5-9c95-dd7cba474c42\n",
      "Processing instance: 6f8e6e0e-acd1-4305-803f-be5223c1f13a\n",
      "Processing instance: 55040a39-20d3-4346-b351-22d23633e976\n",
      "Processing instance: acb768bf-57a1-48eb-84d2-9ba5860a7c0d\n",
      "Processing instance: 82c30baa-5512-45c1-9f60-d02772476266\n",
      "Processing instance: 2a966133-a0c2-4a20-b6cb-da13457568a3\n",
      "Processing instance: 67f329ce-da5d-4158-8ab1-9738df15f41f\n",
      "Processing instance: bd715e05-6c5a-4671-a975-7a60531139bc\n",
      "Processing instance: 8abdbd77-b47f-4ebb-b241-3062cca11c32\n",
      "Processing instance: 6d75e3a3-94b6-4672-8d1e-9ac93e98cd82\n",
      "Processing instance: 407c8d79-58a6-446e-970f-cae2922a8c45\n",
      "Processing instance: 46a598b9-32f4-4d1b-8744-964429cc48f0\n",
      "Processing instance: 1ad01be7-2897-4c4f-83f0-cfa7953cc8b8\n",
      "Processing instance: 86899ee2-b3f9-4452-ade6-460402469ab7\n",
      "Processing instance: 4ea37de1-d54e-4243-8125-32c200163a30\n",
      "Processing instance: 83f8712a-f07b-4d24-b5a4-926a5e61ff3b\n",
      "Processing instance: 2b884e3d-39c9-4ded-85cc-5ee5b368eaa3\n",
      "Processing instance: 09bb34d2-5900-4533-8d41-e07bde0a6a2e\n",
      "Processing instance: 59280170-5bb2-4a06-b152-807b8944876c\n"
     ]
    }
   ],
   "source": [
    "all_instance_data = process_all_instances(\"./training_data\")"
   ]
  },
  {
   "cell_type": "code",
   "execution_count": 148,
   "metadata": {},
   "outputs": [
    {
     "name": "stdout",
     "output_type": "stream",
     "text": [
      "1adef166-1111-45fd-b722-0f817c7fa055\n"
     ]
    }
   ],
   "source": [
    "keys= list(all_instance_data[0].keys())\n",
    "\n",
    "instance_id=14\n",
    "instance = all_instance_data[instance_id]\n",
    "\n",
    "name= instance[keys[0]]\n",
    "\n",
    "couriers= instance[keys[1]]\n",
    "\n",
    "orders= instance[keys[2]]\n",
    "\n",
    "travel_time= instance[keys[3]]\n",
    "\n",
    "print(name)"
   ]
  },
  {
   "cell_type": "code",
   "execution_count": 149,
   "metadata": {},
   "outputs": [
    {
     "data": {
      "text/plain": [
       "Courier(ID=1, Location=1, Capacity=100)"
      ]
     },
     "execution_count": 149,
     "metadata": {},
     "output_type": "execute_result"
    }
   ],
   "source": [
    "couriers[0]"
   ]
  },
  {
   "cell_type": "code",
   "execution_count": 150,
   "metadata": {},
   "outputs": [
    {
     "data": {
      "text/plain": [
       "[Delivery(ID=3, Capacity=100, Pickup Loc=3, Time Window Start=5, Pickup Stacking Id=42187, Dropoff Loc=4),\n",
       " Delivery(ID=4, Capacity=35, Pickup Loc=5, Time Window Start=27, Pickup Stacking Id=12603, Dropoff Loc=6)]"
      ]
     },
     "execution_count": 150,
     "metadata": {},
     "output_type": "execute_result"
    }
   ],
   "source": [
    "orders"
   ]
  },
  {
   "cell_type": "code",
   "execution_count": 151,
   "metadata": {},
   "outputs": [
    {
     "data": {
      "text/plain": [
       "[['Locations', '1', '2', '3', '4', '5', '6'],\n",
       " [1, 0, 10, 12, 8, 7, 24],\n",
       " [2, 10, 0, 10, 17, 17, 32],\n",
       " [3, 12, 10, 0, 20, 19, 34],\n",
       " [4, 8, 17, 20, 0, 6, 14],\n",
       " [5, 7, 17, 19, 6, 0, 16],\n",
       " [6, 24, 32, 34, 14, 16, 0]]"
      ]
     },
     "execution_count": 151,
     "metadata": {},
     "output_type": "execute_result"
    }
   ],
   "source": [
    "travel_time"
   ]
  },
  {
   "cell_type": "code",
   "execution_count": 176,
   "metadata": {},
   "outputs": [
    {
     "name": "stdout",
     "output_type": "stream",
     "text": [
      "492\n"
     ]
    }
   ],
   "source": [
    "COURIERS = [i for i in range(len(couriers))]\n",
    "\n",
    "# determine the depos and Capacities \n",
    "DEPOS= []\n",
    "CAPACITIES = []\n",
    "for i in COURIERS:\n",
    "      DEPOS.append(couriers[i].location)\n",
    "      CAPACITIES.append(couriers[i].capacity)\n",
    "MAXCAP= max(CAPACITIES)\n",
    "# Determine job data \n",
    "ORDERS = [i for i in range(len(orders))]\n",
    "PICKUPS = []\n",
    "DROPOFFS = []\n",
    "SIZES = {} \n",
    "TWSTART = []\n",
    "for i in ORDERS:\n",
    "      PICKUPS.append(orders[i].pickup_loc)\n",
    "      DROPOFFS.append(orders[i].dropoff_loc)\n",
    "      SIZES[orders[i].pickup_loc]= orders[i].capacity \n",
    "      SIZES[orders[i].dropoff_loc] =  - orders[i].capacity \n",
    "      TWSTART.append(orders[i].time_window_start)\n",
    "      \n",
    "      \n",
    "VERTICES= list(set(DEPOS + PICKUPS + DROPOFFS))\n",
    "\n",
    "A_1 = [(u,v) for u,v in zip(DEPOS,PICKUPS)]\n",
    "A_2 = [(u,v) for u,v in zip(PICKUPS,DROPOFFS) if u!=v]\n",
    "A_3 = [(u,v) for u,v in zip(DROPOFFS,DEPOS)]\n",
    "A_4 = [(u,u) for u in DEPOS]\n",
    "\n",
    "\n",
    "DISTANCES= np.array(travel_time)[1:,1:].astype(np.int16)\n",
    "\n",
    "# defined as a sum all of travel time - just an arbitrary large number \n",
    "T = np.sum(DISTANCES.flatten())\n",
    "print(T)\n",
    "\n",
    "if np.count_nonzero(DISTANCES)!= DISTANCES.shape[0]**2 - DISTANCES.shape[0]:\n",
    "      print('Not fully connected matrix')"
   ]
  },
  {
   "cell_type": "code",
   "execution_count": 177,
   "metadata": {},
   "outputs": [
    {
     "name": "stdout",
     "output_type": "stream",
     "text": [
      "[1, 2, 3, 4, 5, 6]\n"
     ]
    }
   ],
   "source": [
    "print(VERTICES)"
   ]
  },
  {
   "cell_type": "code",
   "execution_count": 178,
   "metadata": {},
   "outputs": [
    {
     "data": {
      "text/plain": [
       "array([[ 0, 10, 12,  8,  7, 24],\n",
       "       [10,  0, 10, 17, 17, 32],\n",
       "       [12, 10,  0, 20, 19, 34],\n",
       "       [ 8, 17, 20,  0,  6, 14],\n",
       "       [ 7, 17, 19,  6,  0, 16],\n",
       "       [24, 32, 34, 14, 16,  0]], dtype=int16)"
      ]
     },
     "execution_count": 178,
     "metadata": {},
     "output_type": "execute_result"
    }
   ],
   "source": [
    "DISTANCES"
   ]
  },
  {
   "cell_type": "code",
   "execution_count": 180,
   "metadata": {},
   "outputs": [
    {
     "name": "stdout",
     "output_type": "stream",
     "text": [
      "presolving:\n",
      "Objective value=68.0\n",
      "Solution: x={'x[1,1,0]': 0.0, 'x[1,1,1]': 0.0, 'x[1,2,0]': -0.0, 'x[1,2,1]': -0.0, 'x[1,3,0]': -0.0, 'x[1,3,1]': -0.0, 'x[1,4,0]': 0.0, 'x[1,4,1]': -0.0, 'x[1,5,0]': -0.0, 'x[1,5,1]': -0.0, 'x[1,6,0]': 1.0, 'x[1,6,1]': -0.0, 'x[2,1,0]': -0.0, 'x[2,1,1]': -0.0, 'x[2,2,0]': 0.0, 'x[2,2,1]': 0.0, 'x[2,3,0]': -0.0, 'x[2,3,1]': -0.0, 'x[2,4,0]': -0.0, 'x[2,4,1]': 1.0, 'x[2,5,0]': -0.0, 'x[2,5,1]': -0.0, 'x[2,6,0]': -0.0, 'x[2,6,1]': 0.0, 'x[3,1,0]': 0.0, 'x[3,1,1]': -0.0, 'x[3,2,0]': -0.0, 'x[3,2,1]': 0.0, 'x[3,3,0]': 0.0, 'x[3,3,1]': 1.0, 'x[3,4,0]': 0.0, 'x[3,4,1]': 0.0, 'x[3,5,0]': 0.0, 'x[3,5,1]': 0.0, 'x[3,6,0]': 0.0, 'x[3,6,1]': 0.0, 'x[4,1,0]': 0.0, 'x[4,1,1]': -0.0, 'x[4,2,0]': -0.0, 'x[4,2,1]': 1.0, 'x[4,3,0]': 0.0, 'x[4,3,1]': 0.0, 'x[4,4,0]': 0.0, 'x[4,4,1]': 0.0, 'x[4,5,0]': 0.0, 'x[4,5,1]': 0.0, 'x[4,6,0]': 0.0, 'x[4,6,1]': 0.0, 'x[5,1,0]': 0.0, 'x[5,1,1]': -0.0, 'x[5,2,0]': -0.0, 'x[5,2,1]': 0.0, 'x[5,3,0]': 0.0, 'x[5,3,1]': 0.0, 'x[5,4,0]': 0.0, 'x[5,4,1]': 0.0, 'x[5,5,0]': 1.0, 'x[5,5,1]': 0.0, 'x[5,6,0]': 0.0, 'x[5,6,1]': 0.0, 'x[6,1,0]': 1.0, 'x[6,1,1]': -0.0, 'x[6,2,0]': -0.0, 'x[6,2,1]': 0.0, 'x[6,3,0]': 0.0, 'x[6,3,1]': 0.0, 'x[6,4,0]': 0.0, 'x[6,4,1]': 0.0, 'x[6,5,0]': 0.0, 'x[6,5,1]': 0.0, 'x[6,6,0]': 0.0, 'x[6,6,1]': 0.0, 't[1]': 0.0, 't[2]': 0.0, 't[3]': 5.0, 't[4]': 25.0, 't[5]': 27.0, 't[6]': 43.0, 'q[1]': 100.0, 'q[2]': 100.0, 'q[3]': 100.0, 'q[4]': 100.0, 'q[5]': 100.0, 'q[6]': 100.0}\n",
      "(round 1, fast)       6 del vars, 12 del conss, 0 add conss, 6 chg bounds, 8 chg sides, 8 chg coeffs, 0 upgd conss, 8 impls, 8 clqs\n",
      "(round 2, fast)       16 del vars, 24 del conss, 0 add conss, 16 chg bounds, 20 chg sides, 12 chg coeffs, 0 upgd conss, 8 impls, 8 clqs\n",
      "(round 3, fast)       17 del vars, 31 del conss, 0 add conss, 16 chg bounds, 22 chg sides, 14 chg coeffs, 0 upgd conss, 8 impls, 8 clqs\n",
      "(round 4, fast)       18 del vars, 36 del conss, 0 add conss, 16 chg bounds, 22 chg sides, 14 chg coeffs, 0 upgd conss, 8 impls, 8 clqs\n",
      "(round 5, fast)       19 del vars, 36 del conss, 0 add conss, 17 chg bounds, 22 chg sides, 14 chg coeffs, 0 upgd conss, 8 impls, 8 clqs\n",
      "(round 6, exhaustive) 19 del vars, 36 del conss, 0 add conss, 17 chg bounds, 22 chg sides, 14 chg coeffs, 10 upgd conss, 8 impls, 8 clqs\n",
      "(round 7, medium)     21 del vars, 36 del conss, 0 add conss, 17 chg bounds, 24 chg sides, 16 chg coeffs, 10 upgd conss, 10 impls, 8 clqs\n",
      "   (0.0s) probing cycle finished: starting next cycle\n",
      "(round 8, exhaustive) 37 del vars, 36 del conss, 0 add conss, 17 chg bounds, 24 chg sides, 16 chg coeffs, 10 upgd conss, 10 impls, 252 clqs\n",
      "   (0.0s) probing cycle finished: starting next cycle\n",
      "   (0.0s) symmetry computation started: requiring (bin +, int +, cont +), (fixed: bin -, int -, cont -)\n",
      "   (0.0s) symmetry computation finished: 1 generators found (max: 1500, log10 of symmetry group size: 0.0) (symcode time: 0.00)\n",
      "dynamic symmetry handling statistics:\n",
      "   orbitopal reduction:       no components\n",
      "   orbital reduction:         no components\n",
      "   lexicographic reduction:    1 permutations with support sizes 46\n",
      "handled 1 out of 1 symmetry components\n",
      "presolving (9 rounds: 9 fast, 4 medium, 3 exhaustive):\n",
      " 37 deleted vars, 36 deleted constraints, 0 added constraints, 17 tightened bounds, 0 added holes, 24 changed sides, 16 changed coefficients\n",
      " 10 implications, 334 cliques\n",
      "presolved problem has 47 variables (46 bin, 0 int, 1 impl, 0 cont) and 24 constraints\n",
      "      2 constraints of type <varbound>\n",
      "      8 constraints of type <setppc>\n",
      "     14 constraints of type <linear>\n",
      "transformed objective value is always integral (scale: 1)\n",
      "Presolving Time: 0.01\n",
      "\n",
      " time | node  | left  |LP iter|LP it/n|mem/heur|mdpt |vars |cons |rows |cuts |sepa|confs|strbr|  dualbound   | primalbound  |  gap   | compl. \n",
      "p 0.0s|     1 |     0 |     0 |     - |  clique|   0 |  47 |  24 |  24 |   0 |  0 |   0 |   0 | 6.800000e+01 | 6.800000e+01 |   0.00%| unknown\n",
      "\n",
      "SCIP Status        : problem is solved [optimal solution found]\n",
      "Solving Time (sec) : 0.01\n",
      "Solving Nodes      : 1\n",
      "Primal Bound       : +6.80000000000000e+01 (1 solutions)\n",
      "Dual Bound         : +6.80000000000000e+01\n",
      "Gap                : 0.00 %\n"
     ]
    }
   ],
   "source": [
    "# let us model the problem with scip\n",
    "\n",
    "from pyscipopt import Model, quicksum\n",
    "import itertools\n",
    "\n",
    "model = Model()\n",
    "\n",
    "t = {}\n",
    "for i in VERTICES:\n",
    "        t[i] = model.addVar(vtype=\"C\", name=f't[{i}]')\n",
    "\n",
    "q= {}\n",
    "for i in VERTICES:\n",
    "        q[i] = model.addVar(vtype=\"C\", name=f'q[{i}]', ub=MAXCAP)\n",
    "\n",
    "x={}\n",
    "for i in VERTICES:\n",
    "    for j in VERTICES:\n",
    "           for k in COURIERS:\n",
    "                x[i,j,k]= model.addVar(vtype='B', name=f'x[{i},{j},{k}]')\n",
    "\n",
    "# 2\n",
    "# every vertex should be visited only ones \n",
    "for v in VERTICES:\n",
    "    model.addCons(quicksum(x[i,v,k] for i in VERTICES for k in COURIERS) == 1)\n",
    "\n",
    "# 3 \n",
    "# the same vehicle that visits a vertex does also leave it \n",
    "for v in VERTICES :\n",
    "      for k in COURIERS:\n",
    "            model.addCons(quicksum(x[v,u,k] for u in VERTICES)- quicksum(x[u,v,k] for u in VERTICES) == 0)\n",
    "\n",
    "# 4 \n",
    "# guarantee that the same vehicle that visits a\n",
    "# pickup vertex does also visit the corresponding delivery vertex\n",
    "\n",
    "for o in ORDERS:\n",
    "        for k in COURIERS:\n",
    "                model.addCons(quicksum(x[u,PICKUPS[o],k] for u in VERTICES) - quicksum(x[u,DROPOFFS[o],k] for u in VERTICES) == 0)\n",
    "\n",
    "# 5 \n",
    "# only the vehicle corresponding to its depot can leave it \n",
    "for k in COURIERS:\n",
    "      model.addCons(quicksum(x[DEPOS[k],v,k] for v in VERTICES) ==1) \n",
    "\n",
    "# 6\n",
    "# ensure that the time variables for the vertices are correctly updated \n",
    "# A1 from depos to pickup\n",
    "# A2 form pickup to dropoff (u!=v)\n",
    "\n",
    "A_1 = [(u,v) for u in DEPOS for v in PICKUPS]\n",
    "A_2 = [(u,v) for u in PICKUPS for v in DROPOFFS if u!=v]\n",
    "\n",
    "for k in COURIERS:\n",
    "      for arc in list(set(A_1 + A_2)):\n",
    "            u,v = arc[0],arc[1]      \n",
    "            model.addCons(t[u] + (DISTANCES[u-1,v-1] + T)*x[u,v,k] <= t[v] + T)\n",
    "            \n",
    "\n",
    "# 7 \n",
    "# ensure that the pickup is visited before the corresponding dropoff.\n",
    "for o in ORDERS:\n",
    "      model.addCons(t[DROPOFFS[o]] - t[PICKUPS[o]] >= DISTANCES[DROPOFFS[o]-1,PICKUPS[o]-1])\n",
    "\n",
    "# 8 \n",
    "\n",
    "# A3 from dropoff to depos \n",
    "# A4 loops on starts \n",
    "\n",
    "for k in COURIERS:\n",
    "      for arc in list(set(A_1 + A_2)):\n",
    "            u,v = arc[0],arc[1]\n",
    "            model.addCons(q[u] + (SIZES[v] + MAXCAP)*x[u,v,k] <= q[v] + MAXCAP)\n",
    "\n",
    "# 9 \n",
    "# load at the depots is already fixed\n",
    "for k in COURIERS:\n",
    "      model.addCons(q[DEPOS[k]]== CAPACITIES[k])\n",
    "\n",
    "# 10 \n",
    "# t is representing the time when a vertex is visited by a vehicle. As we can see, this\n",
    "# variable has to respect the bounds of the respective time window.\n",
    "\n",
    "for o in ORDERS:\n",
    "      model.addCons(t[PICKUPS[o]]>= TWSTART[o])\n",
    "      \n",
    "model.setObjective(quicksum(t[v] for v in DROPOFFS))\n",
    "      \n",
    "\n",
    "model.optimize() \n",
    "if model.getNSols() == 0:\n",
    "    print(\"No feasible solution found.\")\n",
    "else:\n",
    "    print(f'Objective value={model.getObjVal()}')\n",
    "    print(f'Solution: x={model.getBestSol()}')       \n"
   ]
  },
  {
   "cell_type": "code",
   "execution_count": 162,
   "metadata": {},
   "outputs": [],
   "source": [
    "sol = model.getBestSol()\n",
    "\n"
   ]
  },
  {
   "cell_type": "code",
   "execution_count": 165,
   "metadata": {},
   "outputs": [
    {
     "data": {
      "text/plain": [
       "{'x[1,1,0]': 0.0, 'x[1,1,1]': 0.0, 'x[1,2,0]': -0.0, 'x[1,2,1]': -0.0, 'x[1,3,0]': -0.0, 'x[1,3,1]': -0.0, 'x[1,4,0]': 0.0, 'x[1,4,1]': -0.0, 'x[1,5,0]': -0.0, 'x[1,5,1]': -0.0, 'x[1,6,0]': 1.0, 'x[1,6,1]': -0.0, 'x[2,1,0]': -0.0, 'x[2,1,1]': -0.0, 'x[2,2,0]': 0.0, 'x[2,2,1]': 0.0, 'x[2,3,0]': -0.0, 'x[2,3,1]': -0.0, 'x[2,4,0]': -0.0, 'x[2,4,1]': 1.0, 'x[2,5,0]': -0.0, 'x[2,5,1]': -0.0, 'x[2,6,0]': -0.0, 'x[2,6,1]': 0.0, 'x[3,1,0]': 0.0, 'x[3,1,1]': -0.0, 'x[3,2,0]': -0.0, 'x[3,2,1]': 0.0, 'x[3,3,0]': 0.0, 'x[3,3,1]': 1.0, 'x[3,4,0]': 0.0, 'x[3,4,1]': 0.0, 'x[3,5,0]': 0.0, 'x[3,5,1]': 0.0, 'x[3,6,0]': 0.0, 'x[3,6,1]': 0.0, 'x[4,1,0]': 0.0, 'x[4,1,1]': -0.0, 'x[4,2,0]': -0.0, 'x[4,2,1]': 1.0, 'x[4,3,0]': 0.0, 'x[4,3,1]': 0.0, 'x[4,4,0]': 0.0, 'x[4,4,1]': 0.0, 'x[4,5,0]': 0.0, 'x[4,5,1]': 0.0, 'x[4,6,0]': 0.0, 'x[4,6,1]': 0.0, 'x[5,1,0]': 0.0, 'x[5,1,1]': -0.0, 'x[5,2,0]': -0.0, 'x[5,2,1]': 0.0, 'x[5,3,0]': 0.0, 'x[5,3,1]': 0.0, 'x[5,4,0]': 0.0, 'x[5,4,1]': 0.0, 'x[5,5,0]': 1.0, 'x[5,5,1]': 0.0, 'x[5,6,0]': 0.0, 'x[5,6,1]': 0.0, 'x[6,1,0]': 1.0, 'x[6,1,1]': -0.0, 'x[6,2,0]': -0.0, 'x[6,2,1]': 0.0, 'x[6,3,0]': 0.0, 'x[6,3,1]': 0.0, 'x[6,4,0]': 0.0, 'x[6,4,1]': 0.0, 'x[6,5,0]': 0.0, 'x[6,5,1]': 0.0, 'x[6,6,0]': 0.0, 'x[6,6,1]': 0.0, 't[1]': 0.0, 't[2]': 0.0, 't[3]': 5.0, 't[4]': 25.0, 't[5]': 27.0, 't[6]': 43.0, 'q[1]': 100.0, 'q[2]': 100.0, 'q[3]': 100.0, 'q[4]': 100.0, 'q[5]': 100.0, 'q[6]': 100.0}"
      ]
     },
     "execution_count": 165,
     "metadata": {},
     "output_type": "execute_result"
    }
   ],
   "source": [
    "sol"
   ]
  },
  {
   "cell_type": "code",
   "execution_count": 146,
   "metadata": {},
   "outputs": [
    {
     "data": {
      "text/plain": [
       "[(3, 4), (1, 5), (5, 4), (2, 3), (5, 6), (3, 6), (2, 5), (1, 3)]"
      ]
     },
     "execution_count": 146,
     "metadata": {},
     "output_type": "execute_result"
    }
   ],
   "source": [
    "list(set(A_1 + A_2))"
   ]
  },
  {
   "cell_type": "code",
   "execution_count": 152,
   "metadata": {},
   "outputs": [
    {
     "data": {
      "text/plain": [
       "[Delivery(ID=3, Capacity=100, Pickup Loc=3, Time Window Start=5, Pickup Stacking Id=42187, Dropoff Loc=4),\n",
       " Delivery(ID=4, Capacity=35, Pickup Loc=5, Time Window Start=27, Pickup Stacking Id=12603, Dropoff Loc=6)]"
      ]
     },
     "execution_count": 152,
     "metadata": {},
     "output_type": "execute_result"
    }
   ],
   "source": [
    "orders"
   ]
  },
  {
   "cell_type": "code",
   "execution_count": 36,
   "metadata": {},
   "outputs": [
    {
     "name": "stdout",
     "output_type": "stream",
     "text": [
      "Help on method addVar in module pyscipopt.scip:\n",
      "\n",
      "addVar(name='', vtype='C', lb=0.0, ub=None, obj=0.0, pricedVar=False, pricedVarScore=1.0) method of pyscipopt.scip.Model instance\n",
      "    Create a new variable. Default variable is non-negative and continuous.\n",
      "    \n",
      "    :param name: name of the variable, generic if empty (Default value = '')\n",
      "    :param vtype: type of the variable: 'C' continuous, 'I' integer, 'B' binary, and 'M' implicit integer\n",
      "    (see https://www.scipopt.org/doc/html/FAQ.php#implicitinteger) (Default value = 'C')\n",
      "    :param lb: lower bound of the variable, use None for -infinity (Default value = 0.0)\n",
      "    :param ub: upper bound of the variable, use None for +infinity (Default value = None)\n",
      "    :param obj: objective value of variable (Default value = 0.0)\n",
      "    :param pricedVar: is the variable a pricing candidate? (Default value = False)\n",
      "    :param pricedVarScore: score of variable in case it is priced, the higher the better (Default value = 1.0)\n",
      "\n"
     ]
    }
   ],
   "source": [
    "model = Model()\n",
    "help(model.addVar)"
   ]
  },
  {
   "cell_type": "code",
   "execution_count": null,
   "metadata": {},
   "outputs": [],
   "source": []
  }
 ],
 "metadata": {
  "kernelspec": {
   "display_name": "Python 3",
   "language": "python",
   "name": "python3"
  },
  "language_info": {
   "codemirror_mode": {
    "name": "ipython",
    "version": 3
   },
   "file_extension": ".py",
   "mimetype": "text/x-python",
   "name": "python",
   "nbconvert_exporter": "python",
   "pygments_lexer": "ipython3",
   "version": "3.10.12"
  }
 },
 "nbformat": 4,
 "nbformat_minor": 2
}
